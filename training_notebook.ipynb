{
  "nbformat": 4,
  "nbformat_minor": 0,
  "metadata": {
    "colab": {
      "provenance": []
    },
    "kernelspec": {
      "name": "python3",
      "display_name": "Python 3"
    },
    "language_info": {
      "name": "python"
    }
  },
  "cells": [
    {
      "cell_type": "markdown",
      "source": [
        "# Genshin YOLO detection"
      ],
      "metadata": {
        "id": "zsv9eEEeK0xS"
      }
    },
    {
      "cell_type": "code",
      "execution_count": null,
      "metadata": {
        "id": "kqi7ON1ZKz7K"
      },
      "outputs": [],
      "source": [
        "# Test"
      ]
    }
  ]
}